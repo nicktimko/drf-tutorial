{
 "cells": [
  {
   "cell_type": "code",
   "execution_count": 1,
   "metadata": {
    "collapsed": true
   },
   "outputs": [],
   "source": [
    "import os\n",
    "os.environ.setdefault(\"DJANGO_SETTINGS_MODULE\", \"tutorial.settings\")\n",
    "import django\n",
    "django.setup()"
   ]
  },
  {
   "cell_type": "markdown",
   "metadata": {},
   "source": [
    "# Working with Serializers\n",
    "\n",
    "http://www.django-rest-framework.org/tutorial/1-serialization/#working-with-serializers"
   ]
  },
  {
   "cell_type": "code",
   "execution_count": 2,
   "metadata": {
    "collapsed": true
   },
   "outputs": [],
   "source": [
    "from snippets.models import Snippet\n",
    "for s in Snippet.objects.all():\n",
    "    s.delete()\n",
    "\n",
    "snippet = Snippet(code='foo = \"bar\"\\n')\n",
    "snippet.save()\n",
    "\n",
    "snippet2 = Snippet(code='print \"hello, world\"\\n')\n",
    "snippet2.save()"
   ]
  },
  {
   "cell_type": "code",
   "execution_count": 3,
   "metadata": {
    "collapsed": false
   },
   "outputs": [
    {
     "data": {
      "text/plain": [
       "<QuerySet [<Snippet: Snippet object>, <Snippet: Snippet object>]>"
      ]
     },
     "execution_count": 3,
     "metadata": {},
     "output_type": "execute_result"
    }
   ],
   "source": [
    "Snippet.objects.all()"
   ]
  },
  {
   "cell_type": "code",
   "execution_count": 4,
   "metadata": {
    "collapsed": true
   },
   "outputs": [],
   "source": [
    "from snippets.serializers import SnippetSerializer\n",
    "from rest_framework.renderers import JSONRenderer\n",
    "from rest_framework.parsers import JSONParser"
   ]
  },
  {
   "cell_type": "code",
   "execution_count": 5,
   "metadata": {
    "collapsed": false
   },
   "outputs": [],
   "source": [
    "serializer = SnippetSerializer(snippet2)"
   ]
  },
  {
   "cell_type": "code",
   "execution_count": 6,
   "metadata": {
    "collapsed": false
   },
   "outputs": [
    {
     "name": "stdout",
     "output_type": "stream",
     "text": [
      "{'style': 'friendly', 'code': u'print \"hello, world\"\\n', 'language': 'python', 'title': u'', 'linenos': False, 'id': 14}\n"
     ]
    }
   ],
   "source": [
    "print(serializer.data)"
   ]
  },
  {
   "cell_type": "code",
   "execution_count": 7,
   "metadata": {
    "collapsed": false
   },
   "outputs": [
    {
     "name": "stdout",
     "output_type": "stream",
     "text": [
      "{\"id\":14,\"title\":\"\",\"code\":\"print \\\"hello, world\\\"\\n\",\"linenos\":false,\"language\":\"python\",\"style\":\"friendly\"}\n"
     ]
    }
   ],
   "source": [
    "content = JSONRenderer().render(serializer.data)\n",
    "print(content)"
   ]
  },
  {
   "cell_type": "code",
   "execution_count": 8,
   "metadata": {
    "collapsed": true
   },
   "outputs": [],
   "source": [
    "import io"
   ]
  },
  {
   "cell_type": "code",
   "execution_count": 9,
   "metadata": {
    "collapsed": false
   },
   "outputs": [],
   "source": [
    "stream = io.BytesIO(content)\n",
    "data = JSONParser().parse(stream)\n",
    "\n",
    "serializer2 = SnippetSerializer(data=data)"
   ]
  },
  {
   "cell_type": "code",
   "execution_count": 10,
   "metadata": {
    "collapsed": false
   },
   "outputs": [
    {
     "data": {
      "text/plain": [
       "True"
      ]
     },
     "execution_count": 10,
     "metadata": {},
     "output_type": "execute_result"
    }
   ],
   "source": [
    "serializer2.is_valid()"
   ]
  },
  {
   "cell_type": "code",
   "execution_count": 11,
   "metadata": {
    "collapsed": false
   },
   "outputs": [
    {
     "data": {
      "text/plain": [
       "OrderedDict([(u'title', u''),\n",
       "             (u'code', u'print \"hello, world\"'),\n",
       "             (u'linenos', False),\n",
       "             (u'language', 'python'),\n",
       "             (u'style', 'friendly')])"
      ]
     },
     "execution_count": 11,
     "metadata": {},
     "output_type": "execute_result"
    }
   ],
   "source": [
    "serializer2.validated_data"
   ]
  },
  {
   "cell_type": "code",
   "execution_count": 12,
   "metadata": {
    "collapsed": false
   },
   "outputs": [
    {
     "name": "stdout",
     "output_type": "stream",
     "text": [
      "2\n",
      "3\n"
     ]
    }
   ],
   "source": [
    "print(Snippet.objects.count())\n",
    "serializer2.save()\n",
    "print(Snippet.objects.count())"
   ]
  },
  {
   "cell_type": "code",
   "execution_count": 13,
   "metadata": {
    "collapsed": false
   },
   "outputs": [
    {
     "name": "stdout",
     "output_type": "stream",
     "text": [
      "SnippetSerializer(<Snippet: Snippet object>):\n",
      "    id = IntegerField(label='ID', read_only=True)\n",
      "    title = CharField(allow_blank=True, max_length=100, required=False)\n",
      "    code = CharField(style={'base_template': 'textarea.html'})\n",
      "    linenos = BooleanField(required=False)\n",
      "    language = ChoiceField(choices=[('abap', 'ABAP'), ('abnf', 'ABNF'), ('ada', 'Ada'), ('adl', 'ADL...\n",
      "    style = ChoiceField(choices=[('algol', 'algol'), ('algol_nu', 'algol_nu'), ('autumn', 'autumn'),...\n"
     ]
    }
   ],
   "source": [
    "print('\\n'.join(\n",
    "    line[:100] + ('...' if len(line) > 100 else '') \n",
    "    for line \n",
    "    in repr(serializer).splitlines())\n",
    ") # maybe reprs with lots of choices should be shortened..."
   ]
  },
  {
   "cell_type": "markdown",
   "metadata": {},
   "source": [
    "# Running the Server\n",
    "\n",
    "We'll do it from the notebook because we're super cheeky."
   ]
  },
  {
   "cell_type": "code",
   "execution_count": 14,
   "metadata": {
    "collapsed": false
   },
   "outputs": [],
   "source": [
    "import subprocess\n",
    "import sys\n",
    "import time"
   ]
  },
  {
   "cell_type": "code",
   "execution_count": 15,
   "metadata": {
    "collapsed": false
   },
   "outputs": [],
   "source": [
    "DJPORT = 8805\n",
    "dj = subprocess.Popen(\n",
    "    [sys.executable, 'manage.py', 'runserver', str(DJPORT)], \n",
    "    universal_newlines=True, \n",
    "    stdout=subprocess.PIPE,\n",
    "    stderr=subprocess.STDOUT,\n",
    ")\n",
    "time.sleep(0.5)"
   ]
  },
  {
   "cell_type": "code",
   "execution_count": 16,
   "metadata": {
    "collapsed": false
   },
   "outputs": [
    {
     "name": "stdout",
     "output_type": "stream",
     "text": [
      "http://127.0.0.1:8805\n"
     ]
    }
   ],
   "source": [
    "import requests\n",
    "server = 'http://127.0.0.1:{:d}'.format(DJPORT)\n",
    "print(server)"
   ]
  },
  {
   "cell_type": "code",
   "execution_count": 17,
   "metadata": {
    "collapsed": false
   },
   "outputs": [
    {
     "name": "stdout",
     "output_type": "stream",
     "text": [
      "<Response [200]>\n"
     ]
    },
    {
     "data": {
      "text/plain": [
       "[{u'code': u'foo = \"bar\"\\n',\n",
       "  u'id': 13,\n",
       "  u'language': u'python',\n",
       "  u'linenos': False,\n",
       "  u'style': u'friendly',\n",
       "  u'title': u''},\n",
       " {u'code': u'print \"hello, world\"\\n',\n",
       "  u'id': 14,\n",
       "  u'language': u'python',\n",
       "  u'linenos': False,\n",
       "  u'style': u'friendly',\n",
       "  u'title': u''},\n",
       " {u'code': u'print \"hello, world\"',\n",
       "  u'id': 15,\n",
       "  u'language': u'python',\n",
       "  u'linenos': False,\n",
       "  u'style': u'friendly',\n",
       "  u'title': u''}]"
      ]
     },
     "execution_count": 17,
     "metadata": {},
     "output_type": "execute_result"
    }
   ],
   "source": [
    "response = requests.get(server + '/snippets')\n",
    "print(response)\n",
    "response.json()"
   ]
  },
  {
   "cell_type": "code",
   "execution_count": 18,
   "metadata": {
    "collapsed": false
   },
   "outputs": [
    {
     "name": "stdout",
     "output_type": "stream",
     "text": [
      "<Response [200]>\n"
     ]
    },
    {
     "data": {
      "text/plain": [
       "{u'code': u'print \"hello, world\"\\n',\n",
       " u'id': 14,\n",
       " u'language': u'python',\n",
       " u'linenos': False,\n",
       " u'style': u'friendly',\n",
       " u'title': u''}"
      ]
     },
     "execution_count": 18,
     "metadata": {},
     "output_type": "execute_result"
    }
   ],
   "source": [
    "SOME_ID = serializer.data['id']\n",
    "\n",
    "response = requests.get(server + '/snippets/{}'.format(SOME_ID))\n",
    "print(response)\n",
    "response.json()"
   ]
  },
  {
   "cell_type": "code",
   "execution_count": 19,
   "metadata": {
    "collapsed": true
   },
   "outputs": [],
   "source": [
    "dj.terminate()"
   ]
  },
  {
   "cell_type": "code",
   "execution_count": null,
   "metadata": {
    "collapsed": true
   },
   "outputs": [],
   "source": []
  }
 ],
 "metadata": {
  "kernelspec": {
   "display_name": "DRF Tutorial",
   "language": "python",
   "name": "drf-toot"
  },
  "language_info": {
   "codemirror_mode": {
    "name": "ipython",
    "version": 2
   },
   "file_extension": ".py",
   "mimetype": "text/x-python",
   "name": "python",
   "nbconvert_exporter": "python",
   "pygments_lexer": "ipython2",
   "version": "2.7.13"
  }
 },
 "nbformat": 4,
 "nbformat_minor": 2
}
