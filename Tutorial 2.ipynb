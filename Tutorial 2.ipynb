{
 "cells": [
  {
   "cell_type": "code",
   "execution_count": 1,
   "metadata": {
    "collapsed": true
   },
   "outputs": [],
   "source": [
    "import subprocess\n",
    "import sys\n",
    "import time"
   ]
  },
  {
   "cell_type": "code",
   "execution_count": 2,
   "metadata": {
    "collapsed": false
   },
   "outputs": [
    {
     "name": "stdout",
     "output_type": "stream",
     "text": [
      "http://127.0.0.1:8805\n"
     ]
    }
   ],
   "source": [
    "DJPORT = 8805\n",
    "dj = subprocess.Popen(\n",
    "    [sys.executable, 'manage.py', 'runserver', str(DJPORT)], \n",
    "    universal_newlines=True, \n",
    "    stdout=subprocess.PIPE,\n",
    "    stderr=subprocess.STDOUT,\n",
    ")\n",
    "time.sleep(0.5) # pause for startup\n",
    "\n",
    "server = 'http://127.0.0.1:{:d}'.format(DJPORT)\n",
    "print(server)"
   ]
  },
  {
   "cell_type": "markdown",
   "metadata": {},
   "source": [
    "# Format suffixes"
   ]
  },
  {
   "cell_type": "code",
   "execution_count": 3,
   "metadata": {
    "collapsed": true
   },
   "outputs": [],
   "source": [
    "import requests"
   ]
  },
  {
   "cell_type": "markdown",
   "metadata": {},
   "source": [
    "### POST via Form"
   ]
  },
  {
   "cell_type": "code",
   "execution_count": 4,
   "metadata": {
    "collapsed": false
   },
   "outputs": [
    {
     "data": {
      "text/plain": [
       "<Response [201]>"
      ]
     },
     "execution_count": 4,
     "metadata": {},
     "output_type": "execute_result"
    }
   ],
   "source": [
    "response = requests.post(server + '/snippets/', data={\n",
    "    'code': '#include <stdio.h>',\n",
    "    'language': 'c',\n",
    "})\n",
    "c_stuff = response.json()['id']\n",
    "response"
   ]
  },
  {
   "cell_type": "markdown",
   "metadata": {},
   "source": [
    "### POST via JSON"
   ]
  },
  {
   "cell_type": "code",
   "execution_count": 5,
   "metadata": {
    "collapsed": false
   },
   "outputs": [
    {
     "data": {
      "text/plain": [
       "<Response [201]>"
      ]
     },
     "execution_count": 5,
     "metadata": {},
     "output_type": "execute_result"
    }
   ],
   "source": [
    "response = requests.post(server + '/snippets/', json={\n",
    "    'code': '-+--++++---+<><><',\n",
    "    'language': 'brainfuck',\n",
    "})\n",
    "bf_stuff = response.json()['id']\n",
    "response"
   ]
  },
  {
   "cell_type": "markdown",
   "metadata": {},
   "source": [
    "### GET JSON via header"
   ]
  },
  {
   "cell_type": "code",
   "execution_count": 6,
   "metadata": {
    "collapsed": false
   },
   "outputs": [
    {
     "data": {
      "text/plain": [
       "{u'code': u'-+--++++---+<><><',\n",
       " u'id': 19,\n",
       " u'language': u'brainfuck',\n",
       " u'linenos': False,\n",
       " u'style': u'friendly',\n",
       " u'title': u''}"
      ]
     },
     "execution_count": 6,
     "metadata": {},
     "output_type": "execute_result"
    }
   ],
   "source": [
    "response = requests.get(\n",
    "    server + '/snippets/{}'.format(bf_stuff),\n",
    "    headers={'Accept': 'application/json'},\n",
    ")\n",
    "response.json()"
   ]
  },
  {
   "cell_type": "markdown",
   "metadata": {},
   "source": [
    "### GET JSON via extension"
   ]
  },
  {
   "cell_type": "code",
   "execution_count": 7,
   "metadata": {
    "collapsed": false
   },
   "outputs": [
    {
     "data": {
      "text/plain": [
       "{u'code': u'-+--++++---+<><><',\n",
       " u'id': 19,\n",
       " u'language': u'brainfuck',\n",
       " u'linenos': False,\n",
       " u'style': u'friendly',\n",
       " u'title': u''}"
      ]
     },
     "execution_count": 7,
     "metadata": {},
     "output_type": "execute_result"
    }
   ],
   "source": [
    "response = requests.get(\n",
    "    server + '/snippets/{}.json'.format(bf_stuff)\n",
    ")\n",
    "response.json()"
   ]
  },
  {
   "cell_type": "markdown",
   "metadata": {},
   "source": [
    "### GET API via header"
   ]
  },
  {
   "cell_type": "code",
   "execution_count": 8,
   "metadata": {
    "collapsed": false
   },
   "outputs": [
    {
     "data": {
      "text/plain": [
       "'\\n\\n\\n\\n<!DOCTYPE html>\\n<html>\\n  <head>\\n    \\n\\n      \\n        <meta http-equiv=\"Content-Type\" content=\"text/html; charset=utf-8\"/>\\n        <meta name=\"robots\" content=\"NONE,NOARCHIVE\" />\\n      \\n\\n      <tit'"
      ]
     },
     "execution_count": 8,
     "metadata": {},
     "output_type": "execute_result"
    }
   ],
   "source": [
    "response = requests.get(\n",
    "    server + '/snippets/{}'.format(bf_stuff),\n",
    "    headers={'Accept': 'text/html'},\n",
    ")\n",
    "response.content[:200]"
   ]
  },
  {
   "cell_type": "markdown",
   "metadata": {},
   "source": [
    "### GET API via extension"
   ]
  },
  {
   "cell_type": "code",
   "execution_count": 9,
   "metadata": {
    "collapsed": false
   },
   "outputs": [
    {
     "data": {
      "text/plain": [
       "'\\n\\n\\n\\n<!DOCTYPE html>\\n<html>\\n  <head>\\n    \\n\\n      \\n        <meta http-equiv=\"Content-Type\" content=\"text/html; charset=utf-8\"/>\\n        <meta name=\"robots\" content=\"NONE,NOARCHIVE\" />\\n      \\n\\n      <tit'"
      ]
     },
     "execution_count": 9,
     "metadata": {},
     "output_type": "execute_result"
    }
   ],
   "source": [
    "response = requests.get(\n",
    "    server + '/snippets/{}.api'.format(bf_stuff),\n",
    ")\n",
    "response.content[:200]"
   ]
  },
  {
   "cell_type": "markdown",
   "metadata": {},
   "source": [
    "---"
   ]
  },
  {
   "cell_type": "code",
   "execution_count": 10,
   "metadata": {
    "collapsed": true
   },
   "outputs": [],
   "source": [
    "dj.terminate()"
   ]
  }
 ],
 "metadata": {
  "kernelspec": {
   "display_name": "DRF Tutorial",
   "language": "python",
   "name": "drf-toot"
  },
  "language_info": {
   "codemirror_mode": {
    "name": "ipython",
    "version": 2
   },
   "file_extension": ".py",
   "mimetype": "text/x-python",
   "name": "python",
   "nbconvert_exporter": "python",
   "pygments_lexer": "ipython2",
   "version": "2.7.13"
  }
 },
 "nbformat": 4,
 "nbformat_minor": 2
}
